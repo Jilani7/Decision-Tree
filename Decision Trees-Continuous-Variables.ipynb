{
 "cells": [
  {
   "cell_type": "code",
   "execution_count": 81,
   "metadata": {},
   "outputs": [
    {
     "name": "stdout",
     "output_type": "stream",
     "text": [
      "Populating the interactive namespace from numpy and matplotlib\n"
     ]
    },
    {
     "name": "stderr",
     "output_type": "stream",
     "text": [
      "/home/jillani/anaconda3/lib/python3.7/site-packages/IPython/core/magics/pylab.py:160: UserWarning: pylab import has clobbered these variables: ['copy', 'split']\n",
      "`%matplotlib` prevents importing * from pylab and numpy\n",
      "  \"\\n`%matplotlib` prevents importing * from pylab and numpy\"\n"
     ]
    }
   ],
   "source": [
    "%pylab inline\n",
    "import scipy.stats\n",
    "from collections import defaultdict  # default dictionary \n",
    "import copy"
   ]
  },
  {
   "cell_type": "code",
   "execution_count": 82,
   "metadata": {},
   "outputs": [],
   "source": [
    "class Node:\n",
    "    def __init__(self,purity,klasslabel='',score=0,split=[],fidx=-1):\n",
    "        self.lchild=None       \n",
    "        self.rchild=None\n",
    "        self.klasslabel=klasslabel        \n",
    "        self.split=split\n",
    "        self.score=score\n",
    "        self.fidx=fidx\n",
    "        self.purity=purity\n",
    "        \n",
    "        \n",
    "    def set_childs(self,lchild,rchild):\n",
    "        \n",
    "        self.lchild=lchild\n",
    "        self.rchild=rchild\n",
    "\n",
    "        \n",
    "    def isleaf(self):\n",
    "        # Your Code Here\n",
    "        if (self.lchild == None and self.rchild == None):\n",
    "            return True\n",
    "        else:\n",
    "            return False\n",
    "      #  print('returns true if the current node is leaf, else returns false')\n",
    "    \n",
    "    def isless_than_eq(self, X):\n",
    "        if (X[self.fidx] < self.split):\n",
    "            return True\n",
    "        return False\n",
    "        \n",
    "    def get_str(self):        \n",
    "        if self.isleaf():\n",
    "            return 'C(class={},Purity={})'.format(self.klasslabel,self.purity)\n",
    "        else:\n",
    "            return 'I(Fidx={},Score={},Split={})'.format(self.fidx,self.score,self.split) "
   ]
  },
  {
   "cell_type": "code",
   "execution_count": 143,
   "metadata": {},
   "outputs": [],
   "source": [
    "## Your code goes here...\n",
    "\n",
    "class DecisionTree:\n",
    "    ''' Implements the Decision Tree For Classification... '''\n",
    "    def __init__(self, purityp, exthreshold,maxdepth=10,tree=None):        \n",
    "        self.purity=purityp\n",
    "        self.exthreshold=exthreshold\n",
    "        self.maxdepth=maxdepth\n",
    "        self.tree=tree\n",
    "        \n",
    "    def train(self, X, Y):\n",
    "        ''' Train Decision Tree using the given \n",
    "            X [m x d] data matrix and Y labels matrix\n",
    "            \n",
    "            Input:\n",
    "            ------\n",
    "            X: [m x d] a data matrix of m d-dimensional examples.\n",
    "            Y: [m x 1] a label vector.\n",
    "            \n",
    "            Returns:\n",
    "            -----------\n",
    "            Nothing\n",
    "            '''\n",
    "        nexamples,nfeatures=X.shape\n",
    "        ## now go and train a model for each class...\n",
    "        # YOUR CODE HERE\n",
    "        self.tree = self.build_tree(X,Y,self.maxdepth)\n",
    "\n",
    "        \n",
    "    def build_tree(self, X, Y, depth):\n",
    "        \"\"\" \n",
    "            Function is used to recursively build the decision Tree \n",
    "          \n",
    "            Input\n",
    "            -----\n",
    "            X: [m x d] a data matrix of m d-dimensional examples.\n",
    "            Y: [m x 1] a label vector.\n",
    "            \n",
    "            Returns\n",
    "            -------\n",
    "            root node of the built tree...\n",
    "        \"\"\"\n",
    "        nexamples, nfeatures=X.shape\n",
    "        (values,counts) = np.unique(Y,return_counts=True)\n",
    "        ind=np.argmax(counts)\n",
    "        current_purity = counts[ind]/Y.shape[0]\n",
    "        klasses,C=np.unique(Y,return_counts=True)\n",
    "        # Base Cond.   \n",
    "        if (depth == 0 or current_purity>=self.purity):\n",
    "            (values,counts) = np.unique(Y,return_counts=True)\n",
    "            ind=np.argmax(counts)\n",
    "            clabel = values[ind]\n",
    "            leaf = Node(current_purity, clabel)\n",
    "            return leaf\n",
    "        \n",
    "        leftN = None\n",
    "        rightN = None\n",
    "        \n",
    "        best_split = 0.0\n",
    "        best_score = 0.0\n",
    "        feature = -1\n",
    "        leftIdx = None\n",
    "        rightIdx = None\n",
    "\n",
    "        for i in range (0, X.shape[1]):\n",
    "            split,mingain,Xlidx,Xridx=self.evaluate_numerical_attribute(X[:,i],Y)\n",
    "            if (mingain > best_score):\n",
    "                best_score = mingain\n",
    "                best_split = split\n",
    "                feature = i\n",
    "                leftIdx = Xlidx\n",
    "                rightIdx = Xridx\n",
    "        n = Node(purity=current_purity,klasslabel='', score=best_score, split=best_split, fidx=feature)\n",
    "        n.lchild = self.build_tree(X[leftIdx], Y[leftIdx], depth-1)\n",
    "        n.rchild = self.build_tree(X[rightIdx], Y[rightIdx], depth-1)\n",
    "        return n\n",
    "        \n",
    "        \n",
    "    def test(self, X):\n",
    "        \n",
    "        ''' Test the trained classifiers on the given set of examples \n",
    "        \n",
    "                   \n",
    "            Input:\n",
    "            ------\n",
    "            X: [m x d] a data matrix of m d-dimensional test examples.\n",
    "           \n",
    "            Returns:\n",
    "            -----------\n",
    "                pclass: the predicted class for each example, i.e. to which it belongs\n",
    "        '''\n",
    "        \n",
    "        nexamples, nfeatures=X.shape\n",
    "        pclasses=self.predict(X)\n",
    "        return pclasses\n",
    "        \n",
    "    def calc_entropy(self, prob1, prob2, prob3):\n",
    "        if (prob1 == 0):\n",
    "            prob1 += 0.0000001\n",
    "        if (prob2 == 0):\n",
    "            prob2 += 0.0000001\n",
    "        if (prob3 == 0):\n",
    "            prob3 += 0.0000001\n",
    "        return - (prob1*math.log(prob1,2) + prob2*math.log(prob2,2) + prob3*math.log(prob3,2))\n",
    "\n",
    "    \n",
    "    def evaluate_numerical_attribute(self,feat, Y):\n",
    "        '''\n",
    "            Evaluates the numerical attribute for all possible split points for\n",
    "            possible feature selection\n",
    "            \n",
    "            Input:\n",
    "            ---------\n",
    "            feat: a contiuous feature\n",
    "            Y: labels\n",
    "            \n",
    "            Returns:\n",
    "            ----------\n",
    "            v: splitting threshold\n",
    "            score: splitting score\n",
    "            Xlidx: Index of examples belonging to left child node\n",
    "            Xridx: Index of examples belonging to right child node\n",
    "            \n",
    "        '''\n",
    "        classes=np.unique(Y)\n",
    "        nclasses=len(classes)\n",
    "        sidx=np.argsort(feat)\n",
    "        f=feat[sidx]\n",
    "        sY=Y[sidx]\n",
    "        split = 0.0\n",
    "        score = 100.0\n",
    "        i_g = 0\n",
    "        p_i = 0.0 \n",
    "        p_j = 0.0 \n",
    "        p_k = 0.0 \n",
    "        \n",
    "        for i in range (0, sY.shape[0]):\n",
    "            if (sY[i] == 'Iris-setosa'):\n",
    "                p_i += 1\n",
    "            elif (sY[i] == 'Iris-versicolor'):\n",
    "                p_j += 1\n",
    "            else:\n",
    "                p_k += 1\n",
    "        entropy = self.calc_entropy(p_i/sY.shape[0], p_j/sY.shape[0], p_k/sY.shape[0])\n",
    "        for j in range(0, sY.shape[0]):\n",
    "            tsplit = f[j]\n",
    "            count_greater = 0\n",
    "            count_lesser = 0\n",
    "            count_i = 0.0  \n",
    "            count_j = 0.0 \n",
    "            count_k = 0.0  \n",
    "\n",
    "            count_l = 0.0 \n",
    "            count_m = 0.0 \n",
    "            count_n = 0.0 \n",
    "            for i in range (0, sY.shape[0]):\n",
    "                if f[i] >= tsplit:\n",
    "                    count_greater += 1\n",
    "                    if (sY[i] == 'Iris-setosa'):\n",
    "                        count_i += 1\n",
    "                    elif (sY[i] == 'Iris-versicolor'):\n",
    "                        count_j += 1\n",
    "                    else:\n",
    "                        count_k += 1\n",
    "                else:\n",
    "                    count_lesser += 1\n",
    "                    if (sY[i] == 'Iris-setosa'):\n",
    "                        count_l += 1\n",
    "                    elif (sY[i] == 'Iris-versicolor'):\n",
    "                        count_m += 1\n",
    "                    else:\n",
    "                        count_n += 1\n",
    "            if (count_greater == 0 or count_lesser == 0):\n",
    "                continue\n",
    "            greater_entropy = self.calc_entropy(count_i/count_greater, count_j/count_greater, count_k/count_greater)\n",
    "            lesser_entropy = self.calc_entropy(count_l/count_lesser, count_m/count_lesser, count_n/count_lesser)\n",
    "            entropy_split = (count_greater/sY.shape[0])*greater_entropy + (count_lesser/sY.shape[0])*lesser_entropy\n",
    "            information_gain = entropy - entropy_split\n",
    "            if (entropy_split < score):\n",
    "                score = entropy_split\n",
    "                i_g = information_gain\n",
    "                split = tsplit\n",
    "        score = i_g\n",
    "        leftChildInd = np.where(f <  split)[0]\n",
    "        RightChildInd = np.where(f >= split)[0]\n",
    "        \n",
    "        return split, score, leftChildInd, RightChildInd          \n",
    "    \n",
    "    def predict(self, X):\n",
    "        \n",
    "        \"\"\"\n",
    "        Test the trained classifiers on the given example X\n",
    "        \n",
    "                   \n",
    "            Input:\n",
    "            ------\n",
    "            X: [1 x d] a d-dimensional test example.\n",
    "           \n",
    "            Returns:\n",
    "            -----------\n",
    "                pclass: the predicted class for the given example, i.e. to which it belongs\n",
    "        \"\"\"\n",
    "        pclass = []\n",
    "        for i in range (0, X.shape[0]):\n",
    "            temp = self._predict(self.tree, X[i,:])\n",
    "            pclass.append(temp)\n",
    "        return pclass\n",
    "    \n",
    "    def _predict(self,node, X):\n",
    "        # YOUR CODE HERE\n",
    "        if (node.isleaf() == True):\n",
    "            temp = node.klasslabel\n",
    "            return temp\n",
    "        else:\n",
    "            if (node.isless_than_eq(X) == True):\n",
    "                return self._predict(node.lchild, X)\n",
    "            else:\n",
    "                return self._predict(node.rchild, X)\n",
    "\n",
    "    def __str__(self):\n",
    "        \n",
    "        return self.__print(self.tree)        \n",
    "        \n",
    "     \n",
    "    def find_depth(self):\n",
    "        \n",
    "        return self._find_depth(self.tree)\n",
    "    \n",
    "    \n",
    "    def _find_depth(self,node):\n",
    "        if not node:\n",
    "            return\n",
    "        if node.isleaf():\n",
    "            return 1\n",
    "        else:\n",
    "            return max(self._find_depth(node.lchild),self._find_depth(node.rchild))+1\n",
    "        \n",
    "    def __print(self,node,depth=0):\n",
    "        \n",
    "        ret = \"\"\n",
    "\n",
    "        # Print right branch\n",
    "        if node.rchild:\n",
    "            ret += self.__print(node.rchild,depth+1)\n",
    "\n",
    "        # Print own value\n",
    "        \n",
    "        ret += \"\\n\" + (\"    \"*depth) + node.get_str()\n",
    "\n",
    "        # Print left branch\n",
    "        if node.lchild:\n",
    "            ret += self.__print(node.lchild,depth+1)\n",
    "        \n",
    "        return ret"
   ]
  },
  {
   "cell_type": "code",
   "execution_count": 144,
   "metadata": {},
   "outputs": [],
   "source": [
    "import pandas as pd\n",
    "import numpy as np\n",
    "import tools as t # set of tools for plotting, data splitting, etc.."
   ]
  },
  {
   "cell_type": "code",
   "execution_count": 145,
   "metadata": {},
   "outputs": [
    {
     "name": "stdout",
     "output_type": "stream",
     "text": [
      "       SepalLength  SepalWidth  PetalLength  PetalWidth\n",
      "count   149.000000  149.000000   149.000000  149.000000\n",
      "mean      5.848322    3.051007     3.774497    1.205369\n",
      "std       0.828594    0.433499     1.759651    0.761292\n",
      "min       4.300000    2.000000     1.000000    0.100000\n",
      "25%       5.100000    2.800000     1.600000    0.300000\n",
      "50%       5.800000    3.000000     4.400000    1.300000\n",
      "75%       6.400000    3.300000     5.100000    1.800000\n",
      "max       7.900000    4.400000     6.900000    2.500000\n"
     ]
    }
   ],
   "source": [
    "#load the data set\n",
    "data=pd.read_csv('./iris.data')\n",
    "data.columns=['SepalLength','SepalWidth','PetalLength','PetalWidth','Class']\n",
    "print (data.describe())"
   ]
  },
  {
   "cell_type": "code",
   "execution_count": 146,
   "metadata": {},
   "outputs": [
    {
     "name": "stdout",
     "output_type": "stream",
     "text": [
      " Data Set Dimensions= (149, 4)  True Class labels dimensions (149,)\n"
     ]
    }
   ],
   "source": [
    "# Get your data in matrix (X ,Y)\n",
    "temp1 = data[['SepalLength','SepalWidth','PetalLength','PetalWidth']].dropna()\n",
    "temp2 = data['Class'].dropna()\n",
    "X = np.asarray(temp1)\n",
    "Y = np.asarray(temp2)\n",
    "    \n",
    "print (\" Data Set Dimensions=\", X.shape, \" True Class labels dimensions\", Y.shape)   "
   ]
  },
  {
   "cell_type": "code",
   "execution_count": 147,
   "metadata": {},
   "outputs": [
    {
     "name": "stdout",
     "output_type": "stream",
     "text": [
      "149\n",
      "5.6\n"
     ]
    }
   ],
   "source": [
    "print (len(Y))\n",
    "feat=[0,1]\n",
    "dt=DecisionTree(0.95,5,2)\n",
    "feat=[0,1]\n",
    "dt.classes=np.unique(Y)\n",
    "dt.nclasses=len(np.unique(Y))\n",
    "split,mingain,Xlidx,Xridx=dt.evaluate_numerical_attribute(X[:,0],Y)\n",
    "print (split)\n",
    "# You should get following result:,\n",
    "# Split=5.45, entropy=0.388707191825"
   ]
  },
  {
   "cell_type": "code",
   "execution_count": 148,
   "metadata": {},
   "outputs": [
    {
     "name": "stdout",
     "output_type": "stream",
     "text": [
      "149\n",
      "3.0 0.9137533408759091 [ 0  1  2  3  4  5  6  7  8  9 10 11 12 13 14 15 16 17 18 19 20 21 22 23\n",
      " 24 25 26 27 28 29 30 31 32 33 34 35 36 37 38 39 40 41 42 43 44 45 46 47\n",
      " 48] [ 49  50  51  52  53  54  55  56  57  58  59  60  61  62  63  64  65  66\n",
      "  67  68  69  70  71  72  73  74  75  76  77  78  79  80  81  82  83  84\n",
      "  85  86  87  88  89  90  91  92  93  94  95  96  97  98  99 100 101 102\n",
      " 103 104 105 106 107 108 109 110 111 112 113 114 115 116 117 118 119 120\n",
      " 121 122 123 124 125 126 127 128 129 130 131 132 133 134 135 136 137 138\n",
      " 139 140 141 142 143 144 145 146 147 148]\n"
     ]
    }
   ],
   "source": [
    "print (len(Y))\n",
    "dt=DecisionTree(0.95,5)\n",
    "dt.train(X[:,feat],Y)\n",
    "g,s,xl,xr=dt.evaluate_numerical_attribute(X[:,2],Y)\n",
    "print (g, s, xl, xr)"
   ]
  },
  {
   "cell_type": "code",
   "execution_count": 149,
   "metadata": {},
   "outputs": [
    {
     "name": "stderr",
     "output_type": "stream",
     "text": [
      "'c' argument looks like a single numeric RGB or RGBA sequence, which should be avoided as value-mapping will have precedence in case its length matches with 'x' & 'y'.  Please use a 2-D array with a single row if you really want to specify the same RGB or RGBA value for all points.\n",
      "'c' argument looks like a single numeric RGB or RGBA sequence, which should be avoided as value-mapping will have precedence in case its length matches with 'x' & 'y'.  Please use a 2-D array with a single row if you really want to specify the same RGB or RGBA value for all points.\n",
      "'c' argument looks like a single numeric RGB or RGBA sequence, which should be avoided as value-mapping will have precedence in case its length matches with 'x' & 'y'.  Please use a 2-D array with a single row if you really want to specify the same RGB or RGBA value for all points.\n"
     ]
    },
    {
     "name": "stdout",
     "output_type": "stream",
     "text": [
      " Plotting the Decision Surface of Training Set... \n"
     ]
    },
    {
     "data": {
      "image/png": "[encoded data removed]",
      "text/plain": [
       "<Figure size 432x288 with 1 Axes>"
      ]
     },
     "metadata": {
      "needs_background": "light"
     },
     "output_type": "display_data"
    }
   ],
   "source": [
    "# %pdb\n",
    "print (\" Plotting the Decision Surface of Training Set... \")\n",
    "t.plot_decision_regions(X[:,feat],Y,clf=dt, res=0.1, cycle_marker=True, legend=1)"
   ]
  },
  {
   "cell_type": "code",
   "execution_count": 150,
   "metadata": {},
   "outputs": [
    {
     "name": "stdout",
     "output_type": "stream",
     "text": [
      " Training Data Set Dimensions= (104, 4) Training True Class labels dimensions (104,)\n",
      " Test Data Set Dimensions= (45, 4) Test True Class labels dimensions (104,)\n"
     ]
    }
   ],
   "source": [
    "# Split your data into training and test-set... \n",
    "# see the documentation of split_data in tools for further information...\n",
    "Xtrain,Ytrain,Xtest,Ytest=t.split_data(X,Y)\n",
    "\n",
    "print (\" Training Data Set Dimensions=\", Xtrain.shape, \"Training True Class labels dimensions\", Ytrain.shape)\n",
    "print (\" Test Data Set Dimensions=\", Xtest.shape, \"Test True Class labels dimensions\", Ytrain.shape)   "
   ]
  },
  {
   "cell_type": "code",
   "execution_count": 151,
   "metadata": {},
   "outputs": [],
   "source": [
    "# Lets train a Decision Tree Classifier on Petal Length and Width\n",
    "feat=[0,1]\n",
    "dt=DecisionTree(0.95,5)\n",
    "dt.train(Xtrain[:,feat],Ytrain)"
   ]
  },
  {
   "cell_type": "code",
   "execution_count": 152,
   "metadata": {},
   "outputs": [],
   "source": [
    "#Lets test it on the set of unseen examples...\n",
    "pclasses=dt.predict(Xtest[:,feat])"
   ]
  },
  {
   "cell_type": "markdown",
   "metadata": {},
   "source": [
    "# Let's See How Good we are doing"
   ]
  },
  {
   "cell_type": "code",
   "execution_count": 153,
   "metadata": {},
   "outputs": [
    {
     "name": "stdout",
     "output_type": "stream",
     "text": [
      "31\n",
      "Accuracy =  0.6888888888888889\n"
     ]
    }
   ],
   "source": [
    "#Lets see how good we are doing, by finding the accuracy on the test set..\n",
    "print (np.sum(pclasses==Ytest))\n",
    "print (\"Accuracy = \", np.sum(pclasses==Ytest)/float(Ytest.shape[0]))"
   ]
  },
  {
   "cell_type": "markdown",
   "metadata": {},
   "source": [
    "# Lets Train on All 4 Features and all 3 classes "
   ]
  },
  {
   "cell_type": "code",
   "execution_count": 154,
   "metadata": {},
   "outputs": [
    {
     "name": "stdout",
     "output_type": "stream",
     "text": [
      " Training Data Set Dimensions= (104, 4) Training True Class labels dimensions (104,)\n",
      " Test Data Set Dimensions= (45, 4) Test True Class labels dimensions (104,)\n"
     ]
    }
   ],
   "source": [
    "# Split your data into training and test-set... \n",
    "# see the documentation of split_data in tools for further information...\n",
    "Xtrain,Ytrain,Xtest,Ytest=t.split_data(X,Y)\n",
    "\n",
    "print (\" Training Data Set Dimensions=\", Xtrain.shape, \"Training True Class labels dimensions\", Ytrain.shape)\n",
    "print (\" Test Data Set Dimensions=\", Xtest.shape, \"Test True Class labels dimensions\", Ytrain.shape)   "
   ]
  },
  {
   "cell_type": "code",
   "execution_count": 155,
   "metadata": {},
   "outputs": [
    {
     "name": "stdout",
     "output_type": "stream",
     "text": [
      "40\n",
      "Accuracy =  0.8888888888888888\n"
     ]
    }
   ],
   "source": [
    "dt=DecisionTree(0.95,5)\n",
    "dt.train(Xtrain,Ytrain)\n",
    "pclasses=dt.predict(Xtest)\n",
    "#Lets see how good we are doing, by finding the accuracy on the test set..\n",
    "print (np.sum(pclasses==Ytest))\n",
    "print (\"Accuracy = \", np.sum(pclasses==Ytest)/float(Ytest.shape[0]))"
   ]
  },
  {
   "cell_type": "code",
   "execution_count": null,
   "metadata": {},
   "outputs": [],
   "source": []
  },
  {
   "cell_type": "code",
   "execution_count": null,
   "metadata": {},
   "outputs": [],
   "source": []
  }
 ],
 "metadata": {
  "kernelspec": {
   "display_name": "Python 3",
   "language": "python",
   "name": "python3"
  },
  "language_info": {
   "codemirror_mode": {
    "name": "ipython",
    "version": 3
   },
   "file_extension": ".py",
   "mimetype": "text/x-python",
   "name": "python",
   "nbconvert_exporter": "python",
   "pygments_lexer": "ipython3",
   "version": "3.7.6"
  },
  "varInspector": {
   "cols": {
    "lenName": 16,
    "lenType": 16,
    "lenVar": 40
   },
   "kernels_config": {
    "python": {
     "delete_cmd_postfix": "",
     "delete_cmd_prefix": "del ",
     "library": "var_list.py",
     "varRefreshCmd": "print(var_dic_list())"
    },
    "r": {
     "delete_cmd_postfix": ") ",
     "delete_cmd_prefix": "rm(",
     "library": "var_list.r",
     "varRefreshCmd": "cat(var_dic_list()) "
    }
   },
   "types_to_exclude": [
    "module",
    "function",
    "builtin_function_or_method",
    "instance",
    "_Feature"
   ],
   "window_display": false
  }
 },
 "nbformat": 4,
 "nbformat_minor": 1
}
